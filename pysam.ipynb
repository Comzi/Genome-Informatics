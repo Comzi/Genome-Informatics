{
  "nbformat": 4,
  "nbformat_minor": 0,
  "metadata": {
    "colab": {
      "name": "pysam.ipynb",
      "provenance": [],
      "collapsed_sections": [],
      "history_visible": true
    },
    "kernelspec": {
      "name": "python3",
      "display_name": "Python 3"
    },
    "language_info": {
      "name": "python"
    }
  },
  "cells": [
    {
      "cell_type": "code",
      "metadata": {
        "colab": {
          "base_uri": "https://localhost:8080/"
        },
        "id": "uHZUjm9MAFgT",
        "outputId": "f8c1441b-5091-4e77-ad39-cf6e83f6e7e0"
      },
      "source": [
        "pip install pysam"
      ],
      "execution_count": 1,
      "outputs": [
        {
          "output_type": "stream",
          "text": [
            "Requirement already satisfied: pysam in /usr/local/lib/python3.7/dist-packages (0.16.0.1)\n"
          ],
          "name": "stdout"
        }
      ]
    },
    {
      "cell_type": "code",
      "metadata": {
        "id": "NaLMDHAOANaY"
      },
      "source": [
        "import numpy as np\n",
        "import pysam\n",
        "bamfile = pysam.AlignmentFile(\"/content/drive/MyDrive/Colab Notebooks/merged-tumor.bam\", \"rb\")"
      ],
      "execution_count": 2,
      "outputs": []
    },
    {
      "cell_type": "code",
      "metadata": {
        "id": "S4D4sabRAufw"
      },
      "source": [
        "bamfile.reset()\n",
        "flag = 0\n",
        "\n",
        "no_reads = 0\n",
        "no_mapped_reads = 0\n",
        "no_unmapped_reads = 0\n",
        "no_reads_mapping_quality_0 = 0\n",
        "avg_mapping_quality = 0\n",
        "avg_mapping_quality_filter_0 = 0\n",
        "\n",
        "for read in bamfile:\n",
        "  no_reads = no_reads + 1\n",
        "  if (read.is_unmapped): no_unmapped_reads = no_unmapped_reads + 1\n",
        "  avg_mapping_quality = avg_mapping_quality + read.mapping_quality\n",
        "  if (read.mapping_quality == 0): \n",
        "    no_reads_mapping_quality_0 = no_reads_mapping_quality_0 + 1\n",
        "  else:\n",
        "    avg_mapping_quality_filter_0 = avg_mapping_quality_filter_0 + read.mapping_quality\n",
        "\n",
        "  if (flag==0):\n",
        "    read1 = read\n",
        "    flag = 1\n",
        "\n",
        "no_mapped_reads = no_reads - no_unmapped_reads"
      ],
      "execution_count": 3,
      "outputs": []
    },
    {
      "cell_type": "code",
      "metadata": {
        "id": "XfHnxaUxTfUu",
        "outputId": "c8e0fc46-690b-4f02-b24e-d88802cb0f65",
        "colab": {
          "base_uri": "https://localhost:8080/"
        }
      },
      "source": [
        "# processing of the first read\n",
        "print(read1)\n",
        "\n",
        "# inspect the fields\n",
        "print(\"QNAME: \", read1.qname)\n",
        "print(\"FLAG: \", read1.flag)\n",
        "print(\"RNAME: \", read1.rname)\n",
        "print(\"POS: \", read1.pos)\n",
        "print(\"MAQ: \", read1.mapping_quality)\n",
        "print(\"CIGAR: \", read1.cigarstring)\n",
        "print(\"MRNM: \", read1.next_reference_id)\n",
        "print(\"MPOS: \", read1.next_reference_start)\n",
        "print(\"ISIZE: \", read1.template_length)\n",
        "print(\"SEQ: \", read1.query_sequence)\n",
        "print(\"QUAL: \", read1.query_qualities)\n",
        "print(\"TAGS: \", read1.tags)\n",
        "\n",
        "# inspect the flag field\n",
        "print('\\n\\nFlag inspection: ',bin(read1.flag),'\\n')\n",
        "\n",
        "if (read1.flag & 1): print(\"The read is paired in sequencing.\")\n",
        "else: print(\"The read is not paired in sequencing.\")\n",
        "if (read1.flag & 2): print(\"The read is mapped in a proper pair.\")\n",
        "else: print(\"The read is not mapped in a proper pair.\")\n",
        "if (read1.flag & 4): print(\"The query sequence is unmapped.\")\n",
        "else: print(\"The query sequence is not unmapped.\")\n",
        "if (read1.flag & 8): print(\"The mate is unmapped.\")\n",
        "else: print(\"The mate is not unmapped.\")\n",
        "if (read1.flag & 16): print(\"Reverse strand.\")\n",
        "else: print(\"Forward strand.\")\n",
        "if (read1.flag & 32): print(\"Mate is reverse strand.\")\n",
        "else: print(\"Mate is forward strand.\")\n",
        "if (read1.flag & 64): print(\"The read is the first read in a pair.\")\n",
        "else: print(\"The read is not the first read in a pair.\")\n",
        "if (read1.flag & 128): print(\"The read is the second read in a pair.\")\n",
        "else: print(\"The read is not the second read in a pair.\")\n",
        "if (read1.flag & 256): print(\"The alignment is not primary.\")\n",
        "else: print(\"The alignment is primary.\")\n",
        "if (read1.flag & 512): print(\"The read fails platform/vendor quality checks.\")\n",
        "else: print(\"The read does not fail platform/vendor quality checks.\")\n",
        "if (read1.flag & 1024): print(\"The read is either a PCR duplicate or an optical duplicate.\")\n",
        "else: print(\"The read is neither a PCR duplicate nor an optical duplicate\")\n"
      ],
      "execution_count": 4,
      "outputs": [
        {
          "output_type": "stream",
          "text": [
            "C0HVYACXX120402:7:1207:5722:57044\t1187\t20\t9483248\t27\t76M\t20\t9483381\t76\tTTTTCAAACAGTATCTATGCCTGCCAAATGTGAACATATAAAAAAAAACCAGAATGTGCCATTCTGATTTAAACTG\tarray('B', [28, 28, 27, 29, 31, 30, 31, 31, 29, 31, 35, 30, 29, 31, 34, 30, 29, 23, 41, 32, 20, 30, 29, 34, 34, 29, 30, 31, 30, 30, 30, 33, 33, 26, 39, 12, 25, 19, 32, 30, 35, 28, 35, 33, 23, 33, 35, 36, 30, 38, 33, 41, 34, 35, 31, 33, 23, 30, 30, 36, 27, 32, 29, 34, 35, 41, 33, 31, 33, 29, 32, 32, 31, 31, 31, 34])\t[('XA', 'GL000217.1,-110754,76M,1;'), ('BD', 'NNNNNNNNNNNNNNNNNNNNNNNNNNNNNNNNNNNNNNNNNNNNNNNNNNNNNNNNNNNNNNNNNNNNNNNNNNNN'), ('MD', '76'), ('RG', '1'), ('BI', 'NNNNNNNNNNNNNNNNNNNNNNNNNNNNNNNNNNNNNNNNNNNNNNNNNNNNNNNNNNNNNNNNNNNNNNNNNNNN'), ('NM', 0), ('MQ', 27), ('AS', 76), ('XS', 71)]\n",
            "QNAME:  C0HVYACXX120402:7:1207:5722:57044\n",
            "FLAG:  1187\n",
            "RNAME:  20\n",
            "POS:  9483248\n",
            "MAQ:  27\n",
            "CIGAR:  76M\n",
            "MRNM:  20\n",
            "MPOS:  9483381\n",
            "ISIZE:  209\n",
            "SEQ:  TTTTCAAACAGTATCTATGCCTGCCAAATGTGAACATATAAAAAAAAACCAGAATGTGCCATTCTGATTTAAACTG\n",
            "QUAL:  array('B', [28, 28, 27, 29, 31, 30, 31, 31, 29, 31, 35, 30, 29, 31, 34, 30, 29, 23, 41, 32, 20, 30, 29, 34, 34, 29, 30, 31, 30, 30, 30, 33, 33, 26, 39, 12, 25, 19, 32, 30, 35, 28, 35, 33, 23, 33, 35, 36, 30, 38, 33, 41, 34, 35, 31, 33, 23, 30, 30, 36, 27, 32, 29, 34, 35, 41, 33, 31, 33, 29, 32, 32, 31, 31, 31, 34])\n",
            "TAGS:  [('XA', 'GL000217.1,-110754,76M,1;'), ('BD', 'NNNNNNNNNNNNNNNNNNNNNNNNNNNNNNNNNNNNNNNNNNNNNNNNNNNNNNNNNNNNNNNNNNNNNNNNNNNN'), ('MD', '76'), ('RG', '1'), ('BI', 'NNNNNNNNNNNNNNNNNNNNNNNNNNNNNNNNNNNNNNNNNNNNNNNNNNNNNNNNNNNNNNNNNNNNNNNNNNNN'), ('NM', 0), ('MQ', 27), ('AS', 76), ('XS', 71)]\n",
            "\n",
            "\n",
            "Flag inspection:  0b10010100011 \n",
            "\n",
            "The read is paired in sequencing.\n",
            "The read is mapped in a proper pair.\n",
            "The query sequence is not unmapped.\n",
            "The mate is not unmapped.\n",
            "Forward strand.\n",
            "Mate is reverse strand.\n",
            "The read is not the first read in a pair.\n",
            "The read is the second read in a pair.\n",
            "The alignment is primary.\n",
            "The read does not fail platform/vendor quality checks.\n",
            "The read is either a PCR duplicate or an optical duplicate.\n"
          ],
          "name": "stdout"
        }
      ]
    },
    {
      "cell_type": "code",
      "metadata": {
        "colab": {
          "base_uri": "https://localhost:8080/"
        },
        "id": "YJxTRx1CdVFd",
        "outputId": "c5429613-0795-44b7-e371-1c5057264200"
      },
      "source": [
        "# secondary tasks calculations\n",
        "print(\"Total number of reads: \", no_reads)\n",
        "print(\"Number of mapped reads: \", no_mapped_reads)\n",
        "print(\"Number of unmapped reads: \", no_unmapped_reads)\n",
        "print(\"Number of reads with mapping quality 0: \", no_reads_mapping_quality_0)\n",
        "print(\"Average qualty for all the reads:\", avg_mapping_quality/no_reads)\n",
        "print(\"Average qualty for if reads with mapping quality 0 are filtered out:\", avg_mapping_quality_filter_0/(no_reads-no_reads_mapping_quality_0))"
      ],
      "execution_count": 5,
      "outputs": [
        {
          "output_type": "stream",
          "text": [
            "Total number of reads:  2921629\n",
            "Number of mapped reads:  2903864\n",
            "Number of unmapped reads:  17765\n",
            "Number of reads with mapping quality 0:  126628\n",
            "Average qualty for all the reads: 55.91379158681681\n",
            "Average qualty for if reads with mapping quality 0 are filtered out: 58.446975510921106\n"
          ],
          "name": "stdout"
        }
      ]
    }
  ]
}